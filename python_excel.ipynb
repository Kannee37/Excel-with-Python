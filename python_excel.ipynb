{
 "cells": [
  {
   "cell_type": "code",
   "execution_count": 3,
   "id": "5f89dd22",
   "metadata": {},
   "outputs": [
    {
     "name": "stdout",
     "output_type": "stream",
     "text": [
      "Requirement already satisfied: openpyxl in c:\\users\\huy chung\\appdata\\local\\programs\\python\\python311\\lib\\site-packages (3.1.5)\n",
      "Requirement already satisfied: et-xmlfile in c:\\users\\huy chung\\appdata\\local\\programs\\python\\python311\\lib\\site-packages (from openpyxl) (2.0.0)\n"
     ]
    }
   ],
   "source": [
    "!pip install openpyxl"
   ]
  },
  {
   "cell_type": "code",
   "execution_count": 4,
   "id": "249f48ae",
   "metadata": {},
   "outputs": [],
   "source": [
    "import openpyxl"
   ]
  },
  {
   "cell_type": "code",
   "execution_count": 5,
   "id": "07266149",
   "metadata": {},
   "outputs": [],
   "source": [
    "import xlwings as xw"
   ]
  },
  {
   "cell_type": "markdown",
   "id": "b52e2f05",
   "metadata": {},
   "source": [
    "# Tạo và mở file Excel"
   ]
  },
  {
   "cell_type": "code",
   "execution_count": 6,
   "id": "0d321cf7",
   "metadata": {},
   "outputs": [],
   "source": [
    "from openpyxl import Workbook\n",
    "# Bước 1: Tạo workbook mới\n",
    "wb = Workbook()\n",
    "# Bước 2: Lấy sheet đầu tiên mặc định \n",
    "ws = wb.active\n",
    "# Bước 3: Đổi tên sheet\n",
    "ws.title = \"Bảng Lương\"\n",
    "# Bước 4: Ghi dữ liệu đầu tiên vào ô A1\n",
    "ws[\"A1\"] = \"Lương nhân viên\"\n",
    "# Bước 5: Lưu file lại\n",
    "wb.save(\"luong.xlsx\")"
   ]
  },
  {
   "cell_type": "markdown",
   "id": "e47e3843",
   "metadata": {},
   "source": [
    "## Thêm, sửa và xóa giá trị ô"
   ]
  },
  {
   "cell_type": "markdown",
   "id": "5c26ca8a",
   "metadata": {},
   "source": [
    "### Cho 1 ô"
   ]
  },
  {
   "cell_type": "code",
   "execution_count": 7,
   "id": "37d641e3",
   "metadata": {},
   "outputs": [],
   "source": [
    "ws['A1'] = 'Xin Chào'"
   ]
  },
  {
   "cell_type": "code",
   "execution_count": 8,
   "id": "6ad9177b",
   "metadata": {},
   "outputs": [],
   "source": [
    "ws.cell(row=1, column=1).value = 'Xin Chào!'"
   ]
  },
  {
   "cell_type": "code",
   "execution_count": 9,
   "id": "57f0c3fa",
   "metadata": {},
   "outputs": [],
   "source": [
    "ws['A1'].value = None"
   ]
  },
  {
   "cell_type": "code",
   "execution_count": 10,
   "id": "1c35d325",
   "metadata": {},
   "outputs": [],
   "source": [
    "ws.cell(row=1, column=1).value = None"
   ]
  },
  {
   "cell_type": "markdown",
   "id": "2cc38fe6",
   "metadata": {},
   "source": [
    "### Cho nhiều ô"
   ]
  },
  {
   "cell_type": "code",
   "execution_count": 11,
   "id": "10e9689c",
   "metadata": {},
   "outputs": [],
   "source": [
    "ws.append(['ABC', 20, '2025'])\n",
    "ws.append(['DEF', 30, '2025'])"
   ]
  },
  {
   "cell_type": "code",
   "execution_count": 12,
   "id": "294739fb",
   "metadata": {},
   "outputs": [],
   "source": [
    "data = [\n",
    "    ['ABC', 20, '2025'],\n",
    "    ['DEF', 30, '2025']\n",
    "]\n",
    "\n",
    "for row_index, row_data in enumerate(data, start=1):\n",
    "    for col_index, value in enumerate(row_data, start=1):\n",
    "        ws.cell(row=row_index, column=col_index, value=value)"
   ]
  },
  {
   "cell_type": "code",
   "execution_count": 13,
   "id": "6845d305",
   "metadata": {},
   "outputs": [],
   "source": [
    "for row in ws[\"A1:C2\"]:\n",
    "    for cell in row:\n",
    "        cell.value = None"
   ]
  },
  {
   "cell_type": "code",
   "execution_count": 14,
   "id": "02efff9c",
   "metadata": {},
   "outputs": [
    {
     "name": "stdout",
     "output_type": "stream",
     "text": [
      "A1 None\n",
      "B1 None\n",
      "C1 None\n",
      "D1 None\n",
      "A2 None\n",
      "B2 None\n",
      "C2 None\n",
      "D2 None\n"
     ]
    }
   ],
   "source": [
    "for row in ws[\"A1:D2\"]:\n",
    "    for cell in row:\n",
    "        print(cell.coordinate, cell.value)"
   ]
  },
  {
   "cell_type": "markdown",
   "id": "2a9dc8ab",
   "metadata": {},
   "source": [
    "## Mở file excel và thêm nội dung"
   ]
  },
  {
   "cell_type": "code",
   "execution_count": 15,
   "id": "a0d79c3b",
   "metadata": {},
   "outputs": [],
   "source": [
    "from openpyxl import load_workbook\n",
    "# Bước 1: Mở file \n",
    "wb = load_workbook(\"luong.xlsx\")\n",
    "# Bước 2: Chọn sheet làm việc\n",
    "# ws = wb.active  # mặc định\n",
    "ws = wb[\"Bảng Lương\"]  #chọn sheet theo tên\n",
    "# Bước 3: Ghi đè nội dung\n",
    "ws[\"A1\"] = \"Lương nhân viên\"\n",
    "ws.append(['Tên', 'Số giờ làm', 'Lương 1 giờ', 'Lương'])\n",
    "ws.append(['Nguyễn Văn A', 30, 20000])\n",
    "ws.append(['Lê Thị B', 35, 21000])\n",
    "ws.append(['Trần C', 28, 20500])\n",
    "ws.append(['Nguyễn Văn D', 35, 25000])\n",
    "# Bước 4: Lưu lại (ghi đè)\n",
    "wb.save(\"luong.xlsx\")"
   ]
  },
  {
   "cell_type": "markdown",
   "id": "095c7288",
   "metadata": {},
   "source": [
    "# Định dạng và căn chỉnh "
   ]
  },
  {
   "cell_type": "code",
   "execution_count": 16,
   "id": "ba9873db",
   "metadata": {},
   "outputs": [],
   "source": [
    "ws.merge_cells(\"A1:D1\")\n",
    "# ws.unmerge_cells(\"A1:D1\")\n",
    "wb.save(\"luong.xlsx\")"
   ]
  },
  {
   "cell_type": "code",
   "execution_count": 17,
   "id": "ca5ec558",
   "metadata": {},
   "outputs": [],
   "source": [
    "from openpyxl.styles import Alignment\n",
    "\n",
    "alignment = Alignment(\n",
    "    horizontal='center', \n",
    "    vertical='center', \n",
    "    wrap_text=True,\n",
    "    text_rotation=0,\n",
    "    shrink_to_fit=False,\n",
    "    indent=0\n",
    ")\n",
    "\n",
    "ws = wb[\"Bảng Lương\"]\n",
    "ws['A1'].alignment = Alignment(horizontal='center', vertical='center', wrap_text=True)\n",
    "\n",
    "# Căn giữa ngang và dọc cho nhiều ô \n",
    "for row in ws.iter_rows(min_row=2, max_row=2, min_col=1, max_col=4):\n",
    "    for cell in row:\n",
    "        cell.alignment = Alignment(horizontal=\"center\", vertical=\"center\")\n",
    "\n",
    "wb.save(\"luong.xlsx\")"
   ]
  },
  {
   "cell_type": "code",
   "execution_count": 18,
   "id": "4ba13493",
   "metadata": {},
   "outputs": [],
   "source": [
    "from openpyxl.styles import Font\n",
    "\n",
    "ws[\"A1\"].font = Font(size=14, bold=True, color=\"000000\")\n",
    "wb.save(\"luong.xlsx\")"
   ]
  },
  {
   "cell_type": "code",
   "execution_count": 19,
   "id": "2dfa3f66",
   "metadata": {},
   "outputs": [],
   "source": [
    "from openpyxl.styles import PatternFill\n",
    "\n",
    "ws[\"A1\"].fill = PatternFill(fill_type=\"solid\", start_color=\"FFFFFF\")\n",
    "wb.save(\"luong.xlsx\")"
   ]
  },
  {
   "cell_type": "code",
   "execution_count": 20,
   "id": "89d8e32a",
   "metadata": {},
   "outputs": [],
   "source": [
    "from openpyxl.styles import Border, Side\n",
    "\n",
    "max_row = ws.max_row\n",
    "max_col = ws.max_column\n",
    "\n",
    "thin = Side(border_style=\"thin\", color=\"000000\")\n",
    "border = Border(left=thin, right=thin, top=thin, bottom=thin)\n",
    "\n",
    "# Áp dụng border cho từng ô trong vùng\n",
    "for row in ws.iter_rows(min_row=1, max_row=max_row, min_col=0, max_col=max_col):\n",
    "    for cell in row:\n",
    "        cell.border = border\n",
    "\n",
    "wb.save(\"luong.xlsx\")"
   ]
  },
  {
   "cell_type": "code",
   "execution_count": 21,
   "id": "3f02b67b",
   "metadata": {},
   "outputs": [],
   "source": [
    "# Định dạng cột C và D (cột Lương 1 giờ và Lương ) thành tiền VND\n",
    "for row in ws.iter_rows(min_row=3, min_col=3, max_col=4):\n",
    "    for cell in row:\n",
    "        cell.number_format = '#,##0\" VND\"'  # Ký hiệu tiền Việt Nam\n",
    "wb.save(\"luong.xlsx\")"
   ]
  },
  {
   "cell_type": "code",
   "execution_count": 22,
   "id": "bc7315e6",
   "metadata": {},
   "outputs": [],
   "source": [
    "from openpyxl.utils import get_column_letter\n",
    "\n",
    "# Tìm cột có tiêu đề là \"Lương 1 giờ\" hoặc \"Lương nhận\" trong hàng 2\n",
    "header_row = 2\n",
    "target_headers = [\"Lương 1 giờ\", \"Lương\"]\n",
    "\n",
    "col_indexes = {}  # Từ điển lưu tên cột -> chỉ số\n",
    "\n",
    "for col in range(1, ws.max_column + 1):\n",
    "    cell_value = ws.cell(row=header_row, column=col).value\n",
    "    if cell_value in target_headers:\n",
    "        col_indexes[cell_value] = col\n",
    "\n",
    "# Định dạng các cột theo tên đã tìm được\n",
    "for header, col in col_indexes.items():\n",
    "    col_letter = get_column_letter(col)\n",
    "    for row in range(3, ws.max_row + 1):  # Bỏ qua tiêu đề\n",
    "        ws[f\"{col_letter}{row}\"].number_format = '#,##0\" VND\"'"
   ]
  },
  {
   "cell_type": "markdown",
   "id": "cf9915f9",
   "metadata": {},
   "source": [
    "# Tính toán các giá trị và gọi hàm"
   ]
  },
  {
   "cell_type": "markdown",
   "id": "249551d0",
   "metadata": {},
   "source": [
    "## Tính trực tiếp trong Python"
   ]
  },
  {
   "cell_type": "code",
   "execution_count": 23,
   "id": "ed6f2e37",
   "metadata": {},
   "outputs": [],
   "source": [
    "# Duyệt từng dòng để tính Lương = Lương 1 giờ * Số giờ làm \n",
    "for row in ws.iter_rows(min_row=3, min_col=2, max_col=3):\n",
    "    gio_lam = row[0].value\n",
    "    luong_1_gio = row[1].value\n",
    "    luong = gio_lam * luong_1_gio if gio_lam and luong_1_gio else 0\n",
    "    ws.cell(row=row[0].row, column=4).value = luong\n",
    "\n",
    "# Lưu lại\n",
    "wb.save(\"luong_python_updated.xlsx\")"
   ]
  },
  {
   "cell_type": "code",
   "execution_count": 24,
   "id": "3d7982eb",
   "metadata": {},
   "outputs": [],
   "source": [
    "max_row = ws.max_row\n",
    "for i in range(3, max_row+1):\n",
    "    ws[f\"D{i}\"] = f\"=B{i}*C{i}\"\n",
    "\n",
    "# Lưu lại \n",
    "wb.save(\"luong_excel_updated.xlsx\")\n",
    "wb.save(\"luong.xlsx\")"
   ]
  },
  {
   "cell_type": "markdown",
   "id": "7c9e5182",
   "metadata": {},
   "source": [
    "## Biểu đồ"
   ]
  },
  {
   "cell_type": "code",
   "execution_count": 25,
   "id": "664cb997",
   "metadata": {},
   "outputs": [],
   "source": [
    "from openpyxl.chart import BarChart, Reference\n",
    "\n",
    "# Bước 1: Tạo biểu đồ cột\n",
    "chart = BarChart()\n",
    "chart.title = \"Lương nhân viên\"\n",
    "chart.x_axis.title = \"Nhân viên\"\n",
    "chart.y_axis.title = \"Lương (VND)\"\n",
    "\n",
    "# Bước 2: Xác định vùng dữ liệu và nhãn \n",
    "data = Reference(ws, min_col=4, min_row=2, max_row=max_row)\n",
    "categories = Reference(ws, min_col=1, min_row=3, max_row=max_row)\n",
    "\n",
    "# Bước 3: Gán dữ liệu cho biểu đồ\n",
    "chart.add_data(data, titles_from_data=True)\n",
    "chart.set_categories(categories)\n",
    "\n",
    "# Bước 4: Chèn biểu đồ\n",
    "ws.add_chart(chart, \"F2\")\n",
    "\n",
    "# Lưu lại\n",
    "wb.save(\"luong.xlsx\")"
   ]
  }
 ],
 "metadata": {
  "kernelspec": {
   "display_name": "base",
   "language": "python",
   "name": "python3"
  },
  "language_info": {
   "codemirror_mode": {
    "name": "ipython",
    "version": 3
   },
   "file_extension": ".py",
   "mimetype": "text/x-python",
   "name": "python",
   "nbconvert_exporter": "python",
   "pygments_lexer": "ipython3",
   "version": "3.11.7"
  }
 },
 "nbformat": 4,
 "nbformat_minor": 5
}
