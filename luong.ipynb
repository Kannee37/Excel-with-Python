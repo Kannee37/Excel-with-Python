{
 "cells": [
  {
   "cell_type": "code",
   "execution_count": 15,
   "id": "deb81c43",
   "metadata": {},
   "outputs": [],
   "source": [
    "import openpyxl\n",
    "from openpyxl import Workbook\n",
    "from openpyxl.styles import Alignment\n",
    "from openpyxl.styles import Font\n",
    "from openpyxl.utils import get_column_letter\n",
    "from datetime import datetime\n",
    "from openpyxl.styles import Border, Side"
   ]
  },
  {
   "cell_type": "markdown",
   "id": "0e80808e",
   "metadata": {},
   "source": [
    "# Tạo dữ liệu"
   ]
  },
  {
   "cell_type": "code",
   "execution_count": 3,
   "id": "766ef148",
   "metadata": {},
   "outputs": [],
   "source": [
    "wb = Workbook()\n",
    "ws = wb.active\n",
    "ws.title = \"Bảng lương\"\n",
    "wb.save('Bang_luong.xlsx')"
   ]
  },
  {
   "cell_type": "code",
   "execution_count": 19,
   "id": "db1e9cbd",
   "metadata": {},
   "outputs": [],
   "source": [
    "ws.merge_cells(\"A1:I1\")\n",
    "ws['A1'] = \"Lương nhân viên\"\n",
    "ws['A1'].alignment = Alignment(horizontal='center', vertical='center', wrap_text=True)\n",
    "ws[\"A1\"].font = Font(size=13, bold=True, color=\"000000\")\n",
    "wb.save('Bang_luong.xlsx')"
   ]
  },
  {
   "cell_type": "code",
   "execution_count": 5,
   "id": "336e7103",
   "metadata": {},
   "outputs": [],
   "source": [
    "ws.append(['Mã số', 'Tên', 'Ngày bắt đầu đi làm', 'Số ca đạt doanh thu',\n",
    "           'Số giờ làm', 'Lương mỗi giờ', 'Lương cơ bản', 'Thưởng doanh thu', \n",
    "           'Lương thực nhận'])\n",
    "ws.append([1, 'Nguyễn Văn A', '28/4/2024', 5, 125])\n",
    "ws.append([2, 'Nguyễn Thị B', '2/10/2024', 7, 130])\n",
    "ws.append([3, 'Lê Văn C', '1/4/2025', 3, 72])\n",
    "ws.append([4, 'Đinh Văn D', '8/1/2025', 5, 112])\n",
    "ws.append([5, 'Nguyễn Thị E', '28/10/2024', 4, 103])\n",
    "ws.append([6, 'Trần Thị E', '20/9/2024', 0, 64.7])\n",
    "ws.append([7, 'Nguyễn Thị Y', '17/5/2024', 2, 79])\n",
    "ws.append([8, 'Nguyễn Văn U', '2/8/2024', 3, 122.4])\n",
    "ws.append([9, 'Võ Văn V', '10/2/2025', 7, 142])\n",
    "wb.save('Bang_luong.xlsx')"
   ]
  },
  {
   "cell_type": "code",
   "execution_count": null,
   "id": "a96441b6",
   "metadata": {},
   "outputs": [],
   "source": [
    "# Định dạng thành tiền VND\n",
    "for row in ws.iter_rows(min_row=3, min_col=6, max_col=9):\n",
    "    for cell in row:\n",
    "        cell.number_format = '#,##0\" VND\"'  \n",
    "wb.save(\"Bang_luong.xlsx\")"
   ]
  },
  {
   "cell_type": "code",
   "execution_count": 7,
   "id": "d18b577d",
   "metadata": {},
   "outputs": [],
   "source": [
    "# Định dạng lương theo cách tìm tên\n",
    "# Tìm cột có tiêu đề trong hàng 2\n",
    "header_row = 2\n",
    "target_headers = ['Lương mỗi giờ', 'Lương cơ bản', 'Thưởng doanh thu', 'Lương thực nhận']\n",
    "\n",
    "col_indexes = {}  # Từ điển lưu tên cột -> chỉ số\n",
    "\n",
    "for col in range(1, ws.max_column + 1):\n",
    "    cell_value = ws.cell(row=header_row, column=col).value\n",
    "    if cell_value in target_headers:\n",
    "        col_indexes[cell_value] = col\n",
    "\n",
    "# Định dạng các cột theo tên đã tìm được\n",
    "for header, col in col_indexes.items():\n",
    "    col_letter = get_column_letter(col)\n",
    "    for row in range(3, ws.max_row + 1):  # Bỏ qua tiêu đề\n",
    "        ws[f\"{col_letter}{row}\"].number_format = '#,##0\" VND\"'"
   ]
  },
  {
   "cell_type": "code",
   "execution_count": null,
   "id": "e645a20f",
   "metadata": {},
   "outputs": [],
   "source": [
    "# Định dạng ngày tháng\n",
    "for row in ws.iter_rows(min_row=3, min_col=3, max_col=3):\n",
    "    for cell in row:\n",
    "        cell.number_format = 'DD/MM/YYYY'  \n",
    "wb.save(\"Bang_luong.xlsx\")"
   ]
  },
  {
   "cell_type": "code",
   "execution_count": null,
   "id": "e2592896",
   "metadata": {},
   "outputs": [],
   "source": [
    "# Hàm tính số tháng làm việc\n",
    "def tinh_so_thang(cell):\n",
    "    # Lấy giá trị ngày tháng từ ô\n",
    "    bat_dau = cell.value\n",
    "    bat_dau = datetime.strptime(bat_dau, \"%d/%m/%Y\") # Cần chuyển sang kiểu datetime\n",
    "    # Kiểm tra nếu giá trị là kiểu ngày tháng (datetime)\n",
    "    if isinstance(bat_dau, datetime):\n",
    "        # Ngày hiện tại\n",
    "        today = datetime.today()\n",
    "        \n",
    "        # Tính số tháng làm việc dựa trên sự chênh lệch ngày\n",
    "        years_diff = today.year - bat_dau.year\n",
    "        months_diff = today.month - bat_dau.month\n",
    "        total_months = years_diff * 12 + months_diff\n",
    "        \n",
    "        # Nếu ngày trong tháng hiện tại chưa đến ngày bắt đầu làm việc, giảm tháng đi 1\n",
    "        if today.day < bat_dau.day:\n",
    "            total_months -= 1\n",
    "        \n",
    "        return total_months\n",
    "    else:\n",
    "        return 0  # Trả về 0 nếu không phải ngày hợp lệ"
   ]
  },
  {
   "cell_type": "code",
   "execution_count": null,
   "id": "9581f3a0",
   "metadata": {},
   "outputs": [],
   "source": [
    "# Thiết lập lương mỗi giờ\n",
    "# Duyệt qua dữ liệu và tính số tháng làm việc\n",
    "for i in range(3, ws.max_row + 1):  # Bắt đầu từ hàng 3\n",
    "    start_date_cell = ws[f'C{i}']  # Cột C chứa ngày bắt đầu\n",
    "    so_thang = tinh_so_thang(start_date_cell)\n",
    "    # Ghi lương cơ bản (lương cơ bản ở cột F)\n",
    "    if so_thang < 1:\n",
    "        ws[f'F{i}'] = 18000\n",
    "    elif so_thang > 6:\n",
    "        ws[f'F{i}'] = 21000\n",
    "    else:\n",
    "        ws[f'F{i}'] = 20000\n",
    "    \n",
    "wb.save(\"Bang_luong.xlsx\")"
   ]
  },
  {
   "cell_type": "code",
   "execution_count": 17,
   "id": "3e4f8993",
   "metadata": {},
   "outputs": [],
   "source": [
    "# Viền bảng\n",
    "max_row = ws.max_row\n",
    "max_col = ws.max_column\n",
    "\n",
    "thin = Side(border_style=\"thin\", color=\"000000\")\n",
    "border = Border(left=thin, right=thin, top=thin, bottom=thin)\n",
    "\n",
    "# Áp dụng border cho từng ô trong vùng\n",
    "for row in ws.iter_rows(min_row=1, max_row=max_row, min_col=0, max_col=max_col):\n",
    "    for cell in row:\n",
    "        cell.border = border\n",
    "\n",
    "wb.save(\"Bang_luong.xlsx\")"
   ]
  },
  {
   "cell_type": "markdown",
   "id": "ddac92b0",
   "metadata": {},
   "source": [
    "# Tính toán"
   ]
  },
  {
   "cell_type": "code",
   "execution_count": null,
   "id": "faf1f8ca",
   "metadata": {},
   "outputs": [],
   "source": [
    "# Thiêt lập các cột cho việc tính toán\n",
    "# Tìm cột có tiêu đề trong hàng 2\n",
    "header_row = 2\n",
    "target_headers = ['Số ca đạt doanh thu', 'Số giờ làm', 'Lương mỗi giờ', \n",
    "                  'Lương cơ bản', 'Thưởng doanh thu', 'Lương thực nhận']\n",
    "\n",
    "col_indexes = {}  # Từ điển lưu tên cột -> chỉ số\n",
    "\n",
    "for col in range(1, ws.max_column + 1):\n",
    "    cell_value = ws.cell(row=header_row, column=col).value\n",
    "    if cell_value in target_headers:\n",
    "        col_indexes[cell_value] = col\n",
    "\n",
    "# Lấy chỉ số cột\n",
    "col_ca = col_indexes['Số ca đạt doanh thu']\n",
    "col_gio = col_indexes['Số giờ làm']\n",
    "col_luong_gio = col_indexes['Lương mỗi giờ']\n",
    "col_luong_cb = col_indexes['Lương cơ bản']\n",
    "col_thuong = col_indexes['Thưởng doanh thu']\n",
    "col_luong = col_indexes['Lương thực nhận']"
   ]
  },
  {
   "cell_type": "code",
   "execution_count": 12,
   "id": "b5d1e764",
   "metadata": {},
   "outputs": [],
   "source": [
    "#Lương cơ bản\n",
    "for row in range(3, ws.max_row + 1):  # Duyệt từ dòng chứa dữ liệu đầu tiên\n",
    "    gio_lam = ws.cell(row=row, column=col_gio).value\n",
    "    luong_moi_gio = ws.cell(row=row, column=col_luong_gio).value\n",
    "\n",
    "    if gio_lam is not None and luong_moi_gio is not None:\n",
    "        luong_cb = gio_lam * luong_moi_gio\n",
    "        ws.cell(row=row, column=col_luong_cb).value = luong_cb\n",
    "\n",
    "wb.save(\"Bang_luong.xlsx\")"
   ]
  },
  {
   "cell_type": "code",
   "execution_count": null,
   "id": "2adb5601",
   "metadata": {},
   "outputs": [],
   "source": [
    "# Tính thưởng doanh thu\n",
    "for row in range(3, ws.max_row + 1):  \n",
    "    ca = ws.cell(row=row, column=col_ca).value\n",
    "\n",
    "    if ca is not None:\n",
    "        thuong = ca * 50000\n",
    "        ws.cell(row=row, column=col_thuong).value = thuong \n",
    "\n",
    "wb.save(\"Bang_luong.xlsx\")"
   ]
  },
  {
   "cell_type": "code",
   "execution_count": null,
   "id": "f31b8cac",
   "metadata": {},
   "outputs": [],
   "source": [
    "# Tính lương thực nhận \n",
    "for row in range(3, ws.max_row + 1):  \n",
    "    luong_cb = ws.cell(row=row, column=col_luong_cb).value\n",
    "    thuong = ws.cell(row=row, column=col_thuong).value\n",
    "\n",
    "    if luong_cb is not None and thuong is not None:\n",
    "        luong = luong_cb + thuong - luong_cb*0.1\n",
    "        ws.cell(row=row, column=col_luong).value = luong\n",
    "\n",
    "wb.save(\"Bang_luong.xlsx\")"
   ]
  }
 ],
 "metadata": {
  "kernelspec": {
   "display_name": "base",
   "language": "python",
   "name": "python3"
  },
  "language_info": {
   "codemirror_mode": {
    "name": "ipython",
    "version": 3
   },
   "file_extension": ".py",
   "mimetype": "text/x-python",
   "name": "python",
   "nbconvert_exporter": "python",
   "pygments_lexer": "ipython3",
   "version": "3.11.7"
  }
 },
 "nbformat": 4,
 "nbformat_minor": 5
}
